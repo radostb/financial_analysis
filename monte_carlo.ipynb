{
 "cells": [
  {
   "cell_type": "markdown",
   "id": "d1f60841",
   "metadata": {},
   "source": [
    "Использую метод Монте-Карло, чтобы оценить результат своего портфеля на дистанции 3 лет.\n",
    "То, как работает функция data_for_compare, мне не очень нравится. Буду ее переписывать.\n",
    "\n",
    "upd. Понял, что это единственный вариант получить что-то похожее на правду."
   ]
  },
  {
   "cell_type": "code",
   "execution_count": 67,
   "id": "e5d79515",
   "metadata": {},
   "outputs": [],
   "source": [
    "from pandas_datareader import data as wb\n",
    "import datetime as dt\n",
    "from datetime import datetime\n",
    "from pandas_datareader._utils import RemoteDataError\n",
    "from pytz import timezone"
   ]
  },
  {
   "cell_type": "code",
   "execution_count": 68,
   "id": "eb33447f",
   "metadata": {},
   "outputs": [],
   "source": [
    "import pandas as pd\n",
    "import numpy as np"
   ]
  },
  {
   "cell_type": "code",
   "execution_count": 69,
   "id": "925aa7d3",
   "metadata": {},
   "outputs": [],
   "source": [
    "from tqdm import tqdm\n",
    "from scipy.stats import norm\n",
    "import matplotlib.pyplot as plt"
   ]
  },
  {
   "cell_type": "code",
   "execution_count": 70,
   "id": "d6a45e52",
   "metadata": {},
   "outputs": [],
   "source": [
    "from ipynb.fs.defs.portfolio_analysis import api_connect, get_id, get_portfolio,data_for_compare, usd_cur"
   ]
  },
  {
   "cell_type": "code",
   "execution_count": 71,
   "id": "6fe87c4c",
   "metadata": {},
   "outputs": [],
   "source": [
    "def monte_carlo(data):\n",
    "    \n",
    "    log_returns = np.log(1 + data.pct_change())\n",
    "    u = log_returns.mean()\n",
    "    var = log_returns.var()\n",
    "    drift = u - (0.5 * var)\n",
    "    stdev = log_returns.std()\n",
    "    t_intervals = 3*365\n",
    "    iterations = 1000\n",
    "    daily_returns = np.exp(drift + stdev * norm.ppf(np.random.rand(t_intervals,iterations)))\n",
    "    S0 = data.iloc[-1]\n",
    "    \n",
    "    price_list = np.zeros_like(daily_returns)\n",
    "    price_list[0] = S0\n",
    "    \n",
    "    for t in range(1, t_intervals):\n",
    "        price_list[t] = price_list[t-1]*daily_returns[t]\n",
    "        \n",
    "    return np.median(price_list)"
   ]
  },
  {
   "cell_type": "code",
   "execution_count": 72,
   "id": "16fe5874",
   "metadata": {},
   "outputs": [],
   "source": [
    "f = open('../tokens.txt')\n",
    "token = f.read()\n",
    "token = token[:-1]"
   ]
  },
  {
   "cell_type": "code",
   "execution_count": 73,
   "id": "e24523ba",
   "metadata": {},
   "outputs": [],
   "source": [
    "client = api_connect(token)"
   ]
  },
  {
   "cell_type": "code",
   "execution_count": 74,
   "id": "40176bc1",
   "metadata": {},
   "outputs": [],
   "source": [
    "broker, iis = get_id(client)"
   ]
  },
  {
   "cell_type": "code",
   "execution_count": 75,
   "id": "6ae1f380",
   "metadata": {},
   "outputs": [],
   "source": [
    "usd = usd_cur(client)"
   ]
  },
  {
   "cell_type": "code",
   "execution_count": 76,
   "id": "f77bd60a",
   "metadata": {},
   "outputs": [],
   "source": [
    "df = get_portfolio(client,iis, usd)"
   ]
  },
  {
   "cell_type": "code",
   "execution_count": 77,
   "id": "488d6738",
   "metadata": {},
   "outputs": [],
   "source": [
    "df = df[((df['ticker'] != 'USD000UTSTOM') & (df['ticker'] != 'EUR_RUB__TOM'))]"
   ]
  },
  {
   "cell_type": "code",
   "execution_count": 84,
   "id": "855793ee",
   "metadata": {},
   "outputs": [],
   "source": [
    "ticks = df[['ticker', 'n_shares']]\n",
    "ticks = ticks.set_index('ticker')\n",
    "ticks = ticks.sort_values(by=['n_shares'])"
   ]
  },
  {
   "cell_type": "code",
   "execution_count": 85,
   "id": "1df5eb36",
   "metadata": {},
   "outputs": [],
   "source": [
    "data = data_for_compare(ticks)"
   ]
  },
  {
   "cell_type": "code",
   "execution_count": 86,
   "id": "152b2918",
   "metadata": {},
   "outputs": [
    {
     "name": "stderr",
     "output_type": "stream",
     "text": [
      "100%|██████████| 1000/1000 [01:18<00:00, 12.79it/s]\n"
     ]
    }
   ],
   "source": [
    "meds = list()\n",
    "for _ in tqdm(range(1000)):\n",
    "    meds.append(monte_carlo(data))"
   ]
  },
  {
   "cell_type": "code",
   "execution_count": 87,
   "id": "188ff204",
   "metadata": {},
   "outputs": [
    {
     "name": "stdout",
     "output_type": "stream",
     "text": [
      "6198.854974851143 7125.289839678271 6630.639176884097\n"
     ]
    }
   ],
   "source": [
    "print(np.min(meds), np.max(meds), np.median(meds))"
   ]
  },
  {
   "cell_type": "code",
   "execution_count": 88,
   "id": "2673cf6b",
   "metadata": {},
   "outputs": [
    {
     "data": {
      "text/plain": [
       "<AxesSubplot:xlabel='Date'>"
      ]
     },
     "execution_count": 88,
     "metadata": {},
     "output_type": "execute_result"
    },
    {
     "data": {
      "image/png": "[encoded data removed]",
      "text/plain": [
       "<Figure size 432x288 with 1 Axes>"
      ]
     },
     "metadata": {
      "needs_background": "light"
     },
     "output_type": "display_data"
    }
   ],
   "source": [
    "data.plot()"
   ]
  },
  {
   "cell_type": "code",
   "execution_count": null,
   "id": "bf0e9257",
   "metadata": {},
   "outputs": [],
   "source": []
  },
  {
   "cell_type": "code",
   "execution_count": null,
   "id": "e0cfe487",
   "metadata": {},
   "outputs": [],
   "source": []
  }
 ],
 "metadata": {
  "kernelspec": {
   "display_name": "Python 3",
   "language": "python",
   "name": "python3"
  },
  "language_info": {
   "codemirror_mode": {
    "name": "ipython",
    "version": 3
   },
   "file_extension": ".py",
   "mimetype": "text/x-python",
   "name": "python",
   "nbconvert_exporter": "python",
   "pygments_lexer": "ipython3",
   "version": "3.8.10"
  }
 },
 "nbformat": 4,
 "nbformat_minor": 5
}
